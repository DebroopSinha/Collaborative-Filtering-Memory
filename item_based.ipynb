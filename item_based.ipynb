{
 "cells": [
  {
   "cell_type": "markdown",
   "metadata": {},
   "source": [
    "## Item Based Collaborative Filtering"
   ]
  },
  {
   "cell_type": "code",
   "execution_count": 1,
   "metadata": {},
   "outputs": [],
   "source": [
    "import numpy as np\n",
    "import pandas as pd"
   ]
  },
  {
   "cell_type": "code",
   "execution_count": 2,
   "metadata": {},
   "outputs": [],
   "source": [
    "r_cols = ['userId', 'movieId', 'rating', 'unix_timestamp']\n",
    "ratings = pd.read_csv('u.data', sep='\\t', names=r_cols,\n",
    "                      encoding='latin-1')\n",
    "m_cols = ['movieId', 'title', 'release_date', 'video_release_date', 'imdb_url']\n",
    "movies = pd.read_csv('u.item', sep='|', names=m_cols, usecols=range(5),\n",
    "                     encoding='latin-1')"
   ]
  },
  {
   "cell_type": "code",
   "execution_count": 3,
   "metadata": {},
   "outputs": [],
   "source": [
    "def replace_name(x):\n",
    "    return movies[movies['movieId']==x].title.values[0]\n",
    "ratings.movieId = ratings.movieId.map(replace_name)"
   ]
  },
  {
   "cell_type": "code",
   "execution_count": 4,
   "metadata": {},
   "outputs": [],
   "source": [
    "item_ratings = ratings.pivot_table(index = ['movieId'], columns = ['userId'], values = 'rating', fill_value=0.0)"
   ]
  },
  {
   "cell_type": "code",
   "execution_count": 5,
   "metadata": {},
   "outputs": [],
   "source": [
    "random_row = np.random.choice(item_ratings.index,1)\n",
    "random_col = np.random.choice(item_ratings.columns,1)"
   ]
  },
  {
   "cell_type": "code",
   "execution_count": 6,
   "metadata": {},
   "outputs": [],
   "source": [
    "test_item = item_ratings.loc[random_row[0]].tolist()\n",
    "test_item = pd.Series(test_item, index=item_ratings.columns)\n",
    "test_user = item_ratings[random_col[0]].tolist()\n",
    "test_user = pd.Series(test_user, index=item_ratings.index)"
   ]
  },
  {
   "cell_type": "code",
   "execution_count": 11,
   "metadata": {},
   "outputs": [],
   "source": [
    "#predict ratings on test_user's test item based on it's correlation with other items test_user has rated\n",
    "def find_recommendation(neighbours):\n",
    "    sm = 0\n",
    "    cnt = 0\n",
    "    for i,y in enumerate(test_user):\n",
    "        for j in neighbours:\n",
    "            if test_user.index[i] == j[0] and y>0.0:\n",
    "                sm += y*j[1]\n",
    "                cnt += j[1]\n",
    "    if cnt!=0:\n",
    "        print(\"{} predicted rating for user {} : {}\".format(random_row[0],random_col[0],round(sm/cnt,1)))"
   ]
  },
  {
   "cell_type": "code",
   "execution_count": 12,
   "metadata": {},
   "outputs": [
    {
     "name": "stdout",
     "output_type": "stream",
     "text": [
      "Top Gun (1986) predicted rating for user 871 : 3.8\n"
     ]
    }
   ],
   "source": [
    "#selecting top similar items based on pearson correlation\n",
    "test_item_similarity = item_ratings.corrwith(test_item, axis = 1)\n",
    "neighbours = []\n",
    "for i,y in enumerate(test_item_similarity):\n",
    "    if y>0 and y!=1:\n",
    "        neighbours.append((test_item_similarity.index[i],y))\n",
    "find_recommendation(neighbours)"
   ]
  }
 ],
 "metadata": {
  "kernelspec": {
   "display_name": "Python 3",
   "language": "python",
   "name": "python3"
  },
  "language_info": {
   "codemirror_mode": {
    "name": "ipython",
    "version": 3
   },
   "file_extension": ".py",
   "mimetype": "text/x-python",
   "name": "python",
   "nbconvert_exporter": "python",
   "pygments_lexer": "ipython3",
   "version": "3.7.0"
  }
 },
 "nbformat": 4,
 "nbformat_minor": 2
}
