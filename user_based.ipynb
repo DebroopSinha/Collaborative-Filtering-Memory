{
 "cells": [
  {
   "cell_type": "markdown",
   "metadata": {},
   "source": [
    "## User Based Collaborative Filtering"
   ]
  },
  {
   "cell_type": "code",
   "execution_count": 1,
   "metadata": {},
   "outputs": [],
   "source": [
    "import numpy as np\n",
    "import pandas as pd "
   ]
  },
  {
   "cell_type": "code",
   "execution_count": 2,
   "metadata": {},
   "outputs": [],
   "source": [
    "r_cols = ['userId', 'movieId', 'rating', 'unix_timestamp']\n",
    "ratings = pd.read_csv('u.data', sep='\\t', names=r_cols,\n",
    "                      encoding='latin-1')\n",
    "m_cols = ['movieId', 'title', 'release_date', 'video_release_date', 'imdb_url']\n",
    "movies = pd.read_csv('u.item', sep='|', names=m_cols, usecols=range(5),\n",
    "                     encoding='latin-1')"
   ]
  },
  {
   "cell_type": "code",
   "execution_count": 3,
   "metadata": {},
   "outputs": [],
   "source": [
    "def replace_name(x):\n",
    "    return movies[movies['movieId']==x].title.values[0]\n",
    "ratings.movieId = ratings.movieId.map(replace_name)"
   ]
  },
  {
   "cell_type": "code",
   "execution_count": 4,
   "metadata": {},
   "outputs": [],
   "source": [
    "user_ratings = ratings.pivot_table(index = ['userId'], columns = ['movieId'], values = 'rating', fill_value=0.0)"
   ]
  },
  {
   "cell_type": "code",
   "execution_count": 5,
   "metadata": {},
   "outputs": [],
   "source": [
    "random_row = np.random.choice(user_ratings.index,1)\n",
    "test_user = user_ratings.loc[random_row[0]].tolist()\n",
    "test_user = pd.Series(test_user, index=user_ratings.columns)"
   ]
  },
  {
   "cell_type": "code",
   "execution_count": 6,
   "metadata": {},
   "outputs": [],
   "source": [
    "user_ratings.drop(random_row[0],axis=0,inplace=True)"
   ]
  },
  {
   "cell_type": "code",
   "execution_count": 7,
   "metadata": {},
   "outputs": [],
   "source": [
    "#predict ratings on test_user's items that topN similar users have rated\n",
    "global recommendation\n",
    "recommendation=[]\n",
    "def find_recommendation(N_neighbours):\n",
    "    sm = 0\n",
    "    cnt=0\n",
    "    for i,y in enumerate(test_user):\n",
    "        if y==0.0:\n",
    "            for k in N_neighbours:     \n",
    "                if user_ratings[test_user.index[i]][k[0]]>0.0:\n",
    "                    sm += user_ratings[test_user.index[i]][k[0]]*k[1]\n",
    "                    cnt+= k[1]\n",
    "            if cnt==0.0:\n",
    "                continue \n",
    "            recommendation.append((test_user.index[i],round(sm/cnt,3)))\n",
    "            sm=0\n",
    "            cnt=0"
   ]
  },
  {
   "cell_type": "code",
   "execution_count": 8,
   "metadata": {},
   "outputs": [],
   "source": [
    "#selecting topN similar users\n",
    "test_user_similarity = user_ratings.corrwith(test_user, axis = 1)\n",
    "neighbours = []\n",
    "N=10\n",
    "for i,y in enumerate(test_user_similarity):\n",
    "    if y>0.0:\n",
    "        neighbours.append((test_user_similarity.index[i], y))      \n",
    "\n",
    "neighbours.sort(reverse=True, key=lambda x:x[1])\n",
    "find_recommendation(neighbours[:N])\n",
    "recommendation.sort(key=lambda x:x[1],reverse=True)"
   ]
  },
  {
   "cell_type": "code",
   "execution_count": 9,
   "metadata": {},
   "outputs": [
    {
     "name": "stdout",
     "output_type": "stream",
     "text": [
      "Recommendations for User 159:\n",
      "\n",
      "\n",
      "Aliens (1986)\n",
      "\n",
      "\n",
      "Clear and Present Danger (1994)\n",
      "\n",
      "\n",
      "E.T. the Extra-Terrestrial (1982)\n",
      "\n",
      "\n",
      "Gattaca (1997)\n",
      "\n",
      "\n",
      "Georgia (1995)\n",
      "\n",
      "\n",
      "Hercules (1997)\n",
      "\n",
      "\n",
      "L.A. Confidential (1997)\n",
      "\n",
      "\n",
      "Maximum Risk (1996)\n",
      "\n",
      "\n",
      "Michael Collins (1996)\n",
      "\n",
      "\n",
      "Othello (1995)\n"
     ]
    }
   ],
   "source": [
    "print(\"Recommendations for User {}:\".format(random_row[0]))\n",
    "for i in recommendation[:N]:\n",
    "    print(\"\\n\")\n",
    "    print(i[0])"
   ]
  },
  {
   "cell_type": "code",
   "execution_count": null,
   "metadata": {},
   "outputs": [],
   "source": []
  }
 ],
 "metadata": {
  "kernelspec": {
   "display_name": "Python 3",
   "language": "python",
   "name": "python3"
  },
  "language_info": {
   "codemirror_mode": {
    "name": "ipython",
    "version": 3
   },
   "file_extension": ".py",
   "mimetype": "text/x-python",
   "name": "python",
   "nbconvert_exporter": "python",
   "pygments_lexer": "ipython3",
   "version": "3.7.0"
  }
 },
 "nbformat": 4,
 "nbformat_minor": 2
}
